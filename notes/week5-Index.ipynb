{
 "cells": [
  {
   "cell_type": "markdown",
   "metadata": {},
   "source": [
    "# Storage and Indexing"
   ]
  },
  {
   "cell_type": "markdown",
   "metadata": {},
   "source": [
    "## File Organization (Heap & Sorted files)\n",
    "**File**: A collection of **pages**, each containing a collection of **records**.\n",
    "\n",
    "1. DBMS: support insert/delete/modify record; Read a particular record; scan all records (with some conditions)\n",
    "2. Heap files: no particular order\n",
    "3. Sorted Files: pages and records within pages are ordered by some condition\n",
    "4. Index File Organisation\n",
    "\n",
    "### Heap (Unordered) Files\n",
    "Simplest file structure, contains records in no particular order\n",
    "\n",
    "As file grows and shrinks, disk pages are allocated and de-allocated => fastest for inserts\n",
    "\n",
    "### Sorted Files\n",
    "Similar structure like heap files (pages and records), but pages and records are ordered\n",
    "\n",
    "Fast for range queries, but hard for mainteneance: each insert potentially reshuffles records\n",
    "\n",
    "### How to choose?\n",
    "Data is typically stored in pages on Hard Disks (HDD). To be able to process and analyze it-data needs to be brought to Memory (RAM).\n",
    "\n",
    "(RAM is much more expensive than HDD)\n",
    "\n",
    "DBMS model the cost of all operations\n",
    "\n",
    "Cost = the number of page access (or disk I/O operations) \n",
    "$$1\\ page\\ access == 1\\ I/O\\$$\n",
    "\n"
   ]
  },
  {
   "cell_type": "markdown",
   "metadata": {},
   "source": [
    "## Index Files & Indexes\n",
    "\n",
    "**Index**: a data structure built on top of data pages used for efficient search. Contains a collection of data entries, and supports efficient retrieval of data records matching a given search condition.\n",
    "\n",
    "**Search Key Fields**: The index is built over; __Any subset__ of the fields of a relation can be the search key for an index\n",
    "\n",
    "**NOTE: Search key is not the same as key, i.e. no need to be unique**\n"
   ]
  },
  {
   "cell_type": "markdown",
   "metadata": {},
   "source": [
    "## Index Classification\n",
    "\n",
    "\n",
    "### Clustered vs. Unclustered Index\n",
    "**Clustered**: order of data records is the same as the order of index data entries\n",
    "\n",
    "CLustering properties\n",
    "1. A data file can have a clustered index on at most one search key combination\n",
    "2. Cost of retrieving data records through index decreases greatly if index is clusted\n",
    "3. Clustered indexes are more expensive to maintain (require file reorganization), but are really efficient for range search\n",
    "\n",
    "### Primary vs. Secondary Index\n",
    "**Primary**: primary index includes the table's primary key\n",
    "\n",
    "**Secondary**: is any other index\n",
    "\n",
    "Properties\n",
    "1. Primary index never contains duplicates\n",
    "2. Secondary index may contain duplicates\n",
    "\n",
    "### Composite Search Keys\n",
    "An index can be built over a combination of search keys\n",
    "\n",
    "### Hash-based Index\n",
    "Represents index as a collection of buckets. Hash function maps the search key to the corresponding bucket.\n",
    "\n",
    "$$h(r.search\\_key)=bucket\\ in\\ which\\ record\\ r\\ belongs$$\n",
    "\n",
    "Good for equality selections.\n",
    "\n",
    "### Tree-based Index\n",
    "Underlying data structure is a binary (B+) tree. Nodes contain pointers to lower levels (left for lower, right for higher). Leaves contain data entries sorted by search key values.\n",
    "\n",
    "Good for range selections"
   ]
  },
  {
   "cell_type": "markdown",
   "metadata": {},
   "source": [
    "## Summary\n",
    "1. Many alternative file organizations exist, each appropriate in some situation\n",
    "2. if selection queries are frequent, sorting the file or building an index is important\n",
    "3. Index is an additional data structure, introduced to quickly find entries with given key values.<br/>\n",
    "Hash-equality; Sorted files & tree-based indexes-range & equality (slower)\n",
    "4. Files rarely kept sorted in practice since high cost; B+ tree index is better"
   ]
  }
 ],
 "metadata": {
  "kernelspec": {
   "display_name": "Python 3.8.6 64-bit",
   "language": "python",
   "name": "python3"
  },
  "language_info": {
   "name": "python",
   "version": "3.8.6"
  },
  "orig_nbformat": 4,
  "vscode": {
   "interpreter": {
    "hash": "c8f9177a0acce8018d23d7772672ff7f2c1807cf103258a4b51e26a443b2e37b"
   }
  }
 },
 "nbformat": 4,
 "nbformat_minor": 2
}
