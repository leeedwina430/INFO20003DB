{
 "cells": [
  {
   "cell_type": "markdown",
   "metadata": {},
   "source": [
    "# Query Processing"
   ]
  },
  {
   "cell_type": "markdown",
   "metadata": {},
   "source": [
    "## Query Processing Overview\n",
    "1. clever implementation techniques for operators\n",
    "2. exploiting ‘equivalencies’ of relational operators\n",
    "3. using **cost models** to choose among alternatives\n",
    "\n",
    "Workflow: query -> query parser (check rightness) -> query optimizer\n",
    "\n",
    "EXAMPLE:\n",
    "- Sailors (S): $N=NPages(S)=500, p_S=NTuplesPP(S)=80, NTuples(S)=500*80=40000$\n",
    "- Reserves (R): $M=NPages(R)=1000, p_R=NTuplesPP(R)=100, NTuples(R)=100000$\n",
    "- Index (I): $RF=0.1, NPages(I)=50$"
   ]
  },
  {
   "cell_type": "markdown",
   "metadata": {},
   "source": [
    "## Selection\n",
    "depends on\n",
    "1. available indexes/access paths\n",
    "2. expected size of the result\n",
    "\n",
    "### Estimate result size (Reduction Factor)\n",
    "$Size\\ of\\ result \\approx size\\ of\\ relation\\times\\prod (reduction\\ factors)$\n",
    "\n",
    "**Reduction Factor (Selectivity)**: estimated portion of the qualified relation, given **predicates (AKA Conditions)**; <font color=red>from optimizer</font>; e.g. 0.3, 0.05...\n",
    "\n",
    "\n",
    "### Alternatives for Selections\n",
    "(cost = I/O, related to times we visit pages)\n",
    "\n",
    "1. **no index, unsorted (Heap Scan):**  \n",
    "$$Cost=NPages(R)$$\n",
    "2. **no index, sorted:** \n",
    "$$Cost=log_2(NPages(R))+(RF * NPages(R))$$\n",
    "3. **Clustered index (sorted):** \n",
    "$$Cost=(NPages(I) + NPages(R))*RF$$\n",
    "\n",
    "(Go through the index; then go though data entries one by one; finally retrieve data)\n",
    "\n",
    "4. **Unclustered index (unsorted):** \n",
    "$$Cost=(NPages(I)+NTuples(R))*RF$$\n",
    "\n",
    "5. **multiple predicates/conditions:**\n",
    "\n",
    "only RFs of **matching predicates (primary conjuncts)** (AKA part of the prefix) will be used\n",
    "\n",
    "### Selection Approach\n",
    "1. find the cheapest access path = least estimated page I/O\n",
    "2. retrieve tuples, reduced by predicates matching\n",
    "3. select over other predicates **on-the-fly**"
   ]
  },
  {
   "cell_type": "markdown",
   "metadata": {},
   "source": [
    "## Projection\n",
    "\n",
    "### 1. Sort-based Projection\n",
    "pipeline:\n",
    "1. Scan R, extract only the needed attributes\n",
    "2. Sort the result set using EXTERNAL SORT\n",
    "3. Remove adjacent duplicates\n",
    "\n",
    "**EXTERNAL SORT:** AKA multiple merge sort; $NPasses$ depends on memory buffer B, Will give us\n",
    "$$SortingCost=2 * NPasses * ReadProjectedPages$$\n",
    "\n",
    "**WriteProjectedPages:** write pages with projected attributes to disk\n",
    "$$WriteProjectedPages=NPages(R)*PF(=ReadProjectedPages)$$\n",
    "\n",
    "**PF (Projection Factor):** remaining ratio w.r.t. all attributes; e.g. 0.25, 0.1...\n",
    "\n",
    "$$\\begin{aligned}\n",
    "Cost&= ReadTable +\\\\\n",
    "    &\\ WriteProjectedPages +\\\\\n",
    "    &\\ SortingCost +\\\\\n",
    "    &\\ ReadProjectedPages\n",
    "\\end{aligned}\n",
    "\\begin{aligned}\n",
    "=&\\ NPages(R)+\\\\\n",
    "    &\\ NPages(R)*PF + \\\\\n",
    "    &\\ 2 * NPasses * NPages(R)*PF + \\\\\n",
    "    &\\ NPages(R)*PF\n",
    "\\end{aligned}$$\n",
    "$$Cost=NPages(R)*(1 + 2*PF+2*NPasses*PF)???$$\n",
    "\n",
    "\n",
    "### 2. Hash-based Projection\n",
    "pipeline:\n",
    "1. Scan R, extract only the needed attributes\n",
    "2. **Partition Phase:** partitioning data into $B$ partitions with $h1$ hash function\n",
    "3. **Duplicate Elimination Phase:** Load each partition, hash it with another hash function ($h2$) and eliminate duplicates\n",
    "\n",
    "$$\\begin{aligned}\n",
    "Cost&= ReadTable +\\\\\n",
    "    &\\ WriteProjectedPages +\\\\\n",
    "    &\\ ReadProjectedPages\n",
    "\\end{aligned}\n",
    "\\begin{aligned}\n",
    "=&\\ NPages(R)+\\\\\n",
    "    &\\ NPages(R)*PF + \\\\\n",
    "    &\\ NPages(R)*PF\n",
    "\\end{aligned}$$\n",
    "$$Cost=NPages(R)*(1 + 2*PF)???$$\n",
    "\n"
   ]
  },
  {
   "cell_type": "markdown",
   "metadata": {},
   "source": [
    "## Join\n",
    "\n",
    "For $R\\times S$,  **Outer (Left)** = $R$, **Inner (Right)** = $S$\n",
    "\n",
    "> So in our cases: $NPages(S)=NPages(Inner), NPages(R)=Npages(Outer)$.\n",
    "\n",
    "Cost metrics are the same as selection and projection, i.e., Number of total I/O (pages)\n",
    "\n",
    "$$A\\times B == B\\times A$$\n",
    "$$A\\times (B\\times C) == (A\\times B)\\times C$$\n",
    "\n",
    "\n",
    "### 1. Nested Loops Join\n",
    "divided into Simple Nested Loops Join (SNLJ), Page-oriented Nested Loops Join (PNLJ) and Block Nested Loops Join (BNLJ).\n",
    "\n",
    "#### 1.1 Simple Nested Loops Join (SNLJ)\n",
    "For each tuple in the outer relation R, we scan the entire inner relation S\n",
    "\n",
    "$$\\begin{aligned}\n",
    "Cost(SNLJ)= &NPages(Outer) +\\\\\n",
    "    &NTuples(Outer) * NPages(Inner)\n",
    "\\end{aligned}$$"
   ]
  },
  {
   "cell_type": "code",
   "execution_count": null,
   "metadata": {},
   "outputs": [],
   "source": [
    "for r in R:\n",
    "    for s in S:\n",
    "        if r == s:\n",
    "            result.append((r,s))"
   ]
  },
  {
   "cell_type": "markdown",
   "metadata": {},
   "source": [
    "#### 1.2 Page-oriented Nested Loops Join (PNLJ)\n",
    "Same as 1.1, except that based on pages.\n",
    "\n",
    "$$\\begin{aligned}\n",
    "Cost(PNLJ)&= NPages(Outer) +\\\\\n",
    "    &\\ \\quad NPages(Outer) * NPages(Inner)\\\\\n",
    "    &= NPages(Outer) * (1+NPages(Inner))\n",
    "\\end{aligned}$$"
   ]
  },
  {
   "cell_type": "code",
   "execution_count": null,
   "metadata": {},
   "outputs": [],
   "source": [
    "for page_R in R:\n",
    "    for page_S in S:\n",
    "        for r in page_R:\n",
    "            for s in page_S:\n",
    "                if r == s:\n",
    "                    result.append((r,s))"
   ]
  },
  {
   "cell_type": "markdown",
   "metadata": {},
   "source": [
    "#### 1.3 Block Nested Loops Join (BNLJ)\n",
    "Page-oriented NL doesn't exploit extra memory buffers; BNLJ reduces the passes\n",
    "\n",
    "For each matching tuple r in R-block, s in S-page, add <r, s> to result. Then read next R-block, scan S, etc\n",
    "\n",
    "<center>\n",
    " <img src=\"./figures/week6l2-1.png\" width = \"400\" alt=\"图片名称\" align=center />\n",
    "</center>\n",
    "\n",
    "$$NBlocks(Outer)=\\frac{NPages(Outer)}{B-2}$$\n",
    "\n",
    "$$\\begin{aligned}\n",
    "Cost(BNLJ)&= NPages(Outer) +\\\\\n",
    "    &\\ \\quad NBlocks(Outer) * NPages(Inner)\\\\\n",
    "    &= NPages(Outer) * \\left[1+\\frac{NPages(Inner)}{B-2}\\right]\n",
    "\\end{aligned}$$\n"
   ]
  },
  {
   "cell_type": "markdown",
   "metadata": {},
   "source": [
    "### 2. Sort-merge Join\n",
    "Sort R and S on the **join column**, then scan them to do a merge (on join column), and output result tuples; $NPasses$ will be given\n",
    "\n",
    "Good for cases:\n",
    "1. One or both inputs are already sorted on join attribute(s)\n",
    "2. output is required to be sorted on join attribute(s).\n",
    "\n",
    "$$Sort(R)=EXTERNAL\\_SORT(R)=2*NPasses*NPages(R)$$\n",
    "\n",
    "$$\\begin{aligned}\n",
    "Cost(SMJ)&=\\ Sort(Outer) + Sort(Inner) \\\\\n",
    "    &\\ \\quad   + NPages(Outer) + NPages(Inner)\\\\\n",
    "    &=\\ (2*NPasses+1)*(NPages(Outer) + NPages(Inner))\n",
    "\\end{aligned}$$\n",
    "\n"
   ]
  },
  {
   "cell_type": "markdown",
   "metadata": {},
   "source": [
    "### 3. Hash Join\n",
    "**Partition Phase:** both relations using hash function h: R tuples in partition l will only match S tuples in partition I; read+write both relations\n",
    "\n",
    "**Matching Phase:** Read in a partition of R, hash it using h2 (<> h!). Scan matching partition of S, probe hash table for matches; read both relations\n",
    "\n",
    "<center>\n",
    " <img src=\"./figures/week6l2-2.png\" width = \"300\" alt=\"图片名称\" align=center />\n",
    "</center>\n",
    "\n",
    "$$\\begin{aligned}\n",
    "Cost(HJ)&= \\ 2*NPages(Outer) + 2*NPages(Inner) \\qquad [partition]\\\\\n",
    "    &\\ \\quad  + NPages(Outer) + NPages(Inner)\\qquad\\qquad [matching]\\\\\n",
    "    &= \\ 3*NPages(Outer) + 3*NPages(Inner)\n",
    "\\end{aligned}$$"
   ]
  },
  {
   "cell_type": "markdown",
   "metadata": {},
   "source": [
    "### General Join\n",
    "\n",
    "#### I. Equalities over several attributes \n",
    "- Nested-Loops Join: nothing changes\n",
    "- Sort-Merge/Hash Join: sort/partition on combination of $n$ join columns\n",
    "\n",
    "#### II. Inequality conditions \n",
    "- Block NL might be the best join method\n",
    "- <font color=red>Hash Join, Sort Merge Join not applicable</font> (haven't implemented)\n",
    "\n"
   ]
  }
 ],
 "metadata": {
  "kernelspec": {
   "display_name": "Python 3.8.6 64-bit",
   "language": "python",
   "name": "python3"
  },
  "language_info": {
   "name": "python",
   "version": "3.8.6"
  },
  "orig_nbformat": 4,
  "vscode": {
   "interpreter": {
    "hash": "c8f9177a0acce8018d23d7772672ff7f2c1807cf103258a4b51e26a443b2e37b"
   }
  }
 },
 "nbformat": 4,
 "nbformat_minor": 2
}
