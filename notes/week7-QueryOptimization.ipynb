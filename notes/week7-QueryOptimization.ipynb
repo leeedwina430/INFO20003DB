{
 "cells": [
  {
   "cell_type": "markdown",
   "metadata": {},
   "source": [
    "# Query Optimization"
   ]
  },
  {
   "cell_type": "markdown",
   "metadata": {},
   "source": [
    "### Reduction Factor\n",
    "\n",
    "1. Col $=$ value: $$RF=1/NKeys(Col)$$\n",
    "2. Col $>$ value: $$RF=(High(Col) - value) / (High(Col) - Low(Col))$$\n",
    "3. Col $<$ value: $$RF=(val - Low(Col)) / (High(Col) - Low(Col))$$\n",
    "4. ColA $=$ ColB (for joins): ??\n",
    "$$RF = 1/(\\max(NKeys(ColA), NKeys(ColB)))$$\n",
    "5. No information about Nkeys or intervals\n",
    "$$RF=1/10$$"
   ]
  },
  {
   "cell_type": "markdown",
   "metadata": {},
   "source": [
    "### Result Size Estimation\n",
    "1. Single table selection:\n",
    "$$ResultSize=NTuples(R)\\times\\prod_{i=1,..,n}RF_i$$\n",
    "2. Joins (over k tables):\n",
    "$$ResultSize=\\prod_{j=1,...,k}NTuples(R_j)\\prod_{i=1,..,n}RF_i$$\n",
    "if no selections (no predicates), $RF=1$"
   ]
  },
  {
   "cell_type": "markdown",
   "metadata": {},
   "source": [
    "### Single-relation plans\n",
    "1. Sequenctial (heap) scan:\n",
    "$$Cost=NPages(R)$$\n",
    "2. Index selection over a <font color=red>primary key</font> (single tuple):\n",
    "$$Cost(B+Tree)=Height(I)+1$$\n",
    "$$Cost(HashIndex)=ProbeCost(I)+1,\\quad ProbeCost(I)\\approx 1.2$$\n",
    "3. Clustered index matching one or more predicates:\n",
    "$$Cost(B+Tree)=(NPages(I)+NPages(R))\\times \\prod_{i=1,...n}RF_i$$\n",
    "$$Cost(HashIndex)=2.2\\times NPages(R)\\times\\prod_{i=1,...n} RF_i $$\n",
    "4. Non-clustered index ...\n",
    "$$Cost(B+Tree)=(NPages(I)+NTuples(R))\\times \\prod_{i=1,...n}RF_i$$\n",
    "$$Cost(HashIndex)=2.2\\times NTuples(R)\\times\\prod_{i=1,...n} RF_i $$\n"
   ]
  },
  {
   "cell_type": "markdown",
   "metadata": {},
   "source": [
    "### Multi-relation Plans\n",
    "Step-by-step:\n",
    "1. Select order of relations: $S\\times R\\times B,\\ S\\times B\\times R,...\\quad⇒N!$\n",
    "2. For each join, select join algorithm: Hash join, Sort-merge join...\n",
    "3. For each input relation, select access method: Heap scan, various index alternatives..\n",
    "4. Calculate ResultSize and Costs for each step, then compute the total cost\n",
    "\n",
    "**Onluy left-deep joint trees are considered**: Intermediate results are not written to temporary files"
   ]
  },
  {
   "cell_type": "markdown",
   "metadata": {},
   "source": [
    "Example:\n",
    "<center>\n",
    " <img src=\"./figures/week7-2.png\" width = \"350\" alt=\"图片名称\" align=center />\n",
    "</center>\n",
    "<br/>\n",
    "<center>\n",
    " <img src=\"./figures/week7-1.png\" width = \"450\" alt=\"图片名称\" align=center />\n",
    "</center>"
   ]
  },
  {
   "cell_type": "markdown",
   "metadata": {},
   "source": []
  }
 ],
 "metadata": {
  "kernelspec": {
   "display_name": "Python 3.8.6 64-bit",
   "language": "python",
   "name": "python3"
  },
  "language_info": {
   "name": "python",
   "version": "3.8.6"
  },
  "orig_nbformat": 4,
  "vscode": {
   "interpreter": {
    "hash": "c8f9177a0acce8018d23d7772672ff7f2c1807cf103258a4b51e26a443b2e37b"
   }
  }
 },
 "nbformat": 4,
 "nbformat_minor": 2
}
