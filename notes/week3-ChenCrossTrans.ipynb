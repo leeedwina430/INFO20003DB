{
 "cells": [
  {
   "cell_type": "markdown",
   "metadata": {},
   "source": [
    "# Model with MySQL Workbench\n",
    "\n",
    "Chen's notation has big bubbles, which is kind of annoying.\n",
    "\n",
    "<center>\n",
    " <img src=\"./figures/week2l1-27.jpg\" width = \"400\" alt=\"图片名称\" align=center />\n",
    "</center>\n"
   ]
  },
  {
   "cell_type": "markdown",
   "metadata": {},
   "source": [
    "## Medicare case study\n",
    "\n",
    "#### Logical\n",
    "Medicare card (<u>Number</u>, valid date, residential address(with assumption?), contact email, phone number)\n",
    "\n",
    "Family member (<u>position number</u>, gender, birthdate, first name, last name) (weak entity)\n",
    "\n",
    "allergy (type, usual medication+dodage the patient takes, seriouness, actuall administered medication and dosage, short descriptive paragraph)\n",
    "\n",
    "ICE contact (<u>ID</u>, full num & work num & mobile num, home residential address)\n",
    "\n",
    "vaccination (vaccine, data, vaccine batch number, produce company, batch manufacture date, batch expiry data)\n",
    "\n",
    "registered doctor (<u>MPN</u>, practitioner's title, first name, last name, registered business address, email, business phone num)\n",
    "\n",
    "donation (details, type, name)"
   ]
  }
 ],
 "metadata": {
  "kernelspec": {
   "display_name": "Python 3.8.6 64-bit",
   "language": "python",
   "name": "python3"
  },
  "language_info": {
   "name": "python",
   "version": "3.8.6"
  },
  "orig_nbformat": 4,
  "vscode": {
   "interpreter": {
    "hash": "c8f9177a0acce8018d23d7772672ff7f2c1807cf103258a4b51e26a443b2e37b"
   }
  }
 },
 "nbformat": 4,
 "nbformat_minor": 2
}
