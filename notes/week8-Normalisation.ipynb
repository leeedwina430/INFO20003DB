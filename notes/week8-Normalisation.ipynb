{
 "cells": [
  {
   "cell_type": "markdown",
   "metadata": {},
   "source": [
    "# Normalisation\n",
    "To remove undesired redundancy from databases (Break one large table into several smaller tables)\n",
    "\n",
    "**Definition:** A relation is normalized if all determinants are candidate keys"
   ]
  },
  {
   "cell_type": "markdown",
   "metadata": {},
   "source": [
    "## Problem: Anomalies in Denormalized Data\n",
    "\n",
    "<center>\n",
    " <img src=\"./figures/week8-1.png\" width = \"200\" alt=\"图片名称\" align=center />\n",
    "</center>\n",
    "\n",
    "**Insertion Anomaly:** A new course cannot be added until at least one student has enrolled\n",
    "\n",
    "**Deletion Anomaly:** If student 425 withdraws, we lose all record of course C400 and its fee\n",
    "\n",
    "**Update Anomaly:** If the fee for course C200 changes, we have to change it in multiple records (rows), else the data will be inconsistent."
   ]
  },
  {
   "cell_type": "markdown",
   "metadata": {},
   "source": [
    "## Functional Dependency\n",
    "### Definitions\n",
    "$$A(\\underline{X},\\underline{Y},Z,D)$$\n",
    "**Determinants:** The lesft hand side of the arrow, e.g. $X,Y$ in $(X,Y\\rightarrow Z)$\n",
    "\n",
    "**Key and Non-Key attritutes:** whether the attribute is part of the primary key or not\n",
    "\n",
    "**Partial functional dependency:** a functional dependency of one (or more) non-key attributes upon part but not all of the primary key, e.g. $(Y\\rightarrow Z)$\n",
    "\n",
    "**Transitive dependency:** a functional dependency between 2 (or more) non-key attributes, e.g. $(Z\\rightarrow D)$\n",
    "\n",
    "### Armstrong's Axioms\n",
    "Functional dependencies can be identified using Armstrong's Axioms\n",
    "$$A=(X1,X2,...,Xn)\\ and\\ B=(Y1,Y2,...,Yn)$$\n",
    "1. **Reflexivity:** $B\\subseteq A \\Rightarrow A\\rightarrow B$ （自包含）<br/>\n",
    "e.g. Student_ID, name -> name\n",
    "2. **Augmentation:** $A\\rightarrow B\\Rightarrow AC\\rightarrow BC$<br/>\n",
    "e.g. Student_ID -> name => Student_ID, surname -> name, surname\n",
    "3. **Transitivity:** $A\\rightarrow B\\ and\\ B\\rightarrow C\\Rightarrow A\\rightarrow C$<br/>\n",
    "e.g. ID -> birthdate and birthdate -> age => ID -> age\n"
   ]
  },
  {
   "cell_type": "markdown",
   "metadata": {},
   "source": [
    "## Normalisation\n",
    "\n",
    "### Steps in Normalisation\n",
    "1. **First Normal Form**-Keep atomic data/Rmove repeating groups<br/>\n",
    "原PK r epeating PK (e.g.含有多个value的列) -> CPK (composite FK) + New separate table</br>\n",
    "=> update, delete and insert anomalies still exsits\n",
    "<center>\n",
    " <img src=\"./figures/week8-2.png\" width = \"400\" alt=\"图片名称\" align=center />\n",
    "</center>\n",
    "\n",
    "2. **Second Normal Form**-Remove partial dependencies<br/>\n",
    "breakdown + FK</br>\n",
    "=> update, delete and insert anomalies still exsits\n",
    "<center>\n",
    " <img src=\"./figures/week8-3.png\" width = \"400\" alt=\"图片名称\" align=center />\n",
    "</center>\n",
    "\n",
    "3. **Third Normal Form**-Remove transitive dependencies<br/>\n",
    "breakdown + FK => no anomalies!\n",
    "<center>\n",
    " <img src=\"./figures/week8-4.png\" width = \"400\" alt=\"图片名称\" align=center />\n",
    "</center>"
   ]
  },
  {
   "cell_type": "markdown",
   "metadata": {},
   "source": [
    "## Normalisation vs Denormalization\n",
    "**Normalisation:**\n",
    "1. Contains a minimum amount of redundancy\n",
    "2. Allow users to insert, modify, and delete rows in tables without errors or inconssitencies (anomalies)\n",
    "\n",
    "**Denormalization:**\n",
    "1. Specific Quey Speed is super fast\n",
    "2. Extra work on updates to keep redundant data consistent\n",
    "3. Denomalization may be used to improve performance of time-critical operations"
   ]
  }
 ],
 "metadata": {
  "kernelspec": {
   "display_name": "Python 3.8.6 64-bit",
   "language": "python",
   "name": "python3"
  },
  "language_info": {
   "name": "python",
   "version": "3.8.6"
  },
  "orig_nbformat": 4,
  "vscode": {
   "interpreter": {
    "hash": "c8f9177a0acce8018d23d7772672ff7f2c1807cf103258a4b51e26a443b2e37b"
   }
  }
 },
 "nbformat": 4,
 "nbformat_minor": 2
}
